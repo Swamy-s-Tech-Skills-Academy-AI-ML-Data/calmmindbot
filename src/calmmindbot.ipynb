{
 "cells": [
  {
   "cell_type": "markdown",
   "metadata": {},
   "source": [
    "# Mental health counseling **Clam Mind Bot**"
   ]
  },
  {
   "cell_type": "markdown",
   "metadata": {},
   "source": [
    "## Install Packages"
   ]
  },
  {
   "cell_type": "code",
   "execution_count": null,
   "metadata": {},
   "outputs": [],
   "source": [
    "\n",
    "!pip install ipykernel\n",
    "!python.exe -m pip install --upgrade pip\n",
    "!pip install openai datasets\n"
   ]
  },
  {
   "cell_type": "markdown",
   "metadata": {},
   "source": [
    "## Task 1: Import the Libraries"
   ]
  },
  {
   "cell_type": "code",
   "execution_count": 20,
   "metadata": {},
   "outputs": [],
   "source": [
    "# Import the libraries here\n",
    "import os as os\n",
    "from openai import OpenAI\n",
    "from datasets import load_dataset\n",
    "from enum import Enum\n",
    "import random as random\n",
    "import json as json"
   ]
  },
  {
   "cell_type": "markdown",
   "metadata": {},
   "source": [
    "## Task 2: Create Classes for the Dataset"
   ]
  },
  {
   "cell_type": "code",
   "execution_count": 21,
   "metadata": {},
   "outputs": [],
   "source": [
    "#  Define the RoleType Enum here\n",
    "class RoleType(Enum):\n",
    "    USER = 'user'\n",
    "    SYSTEM = 'system'\n",
    "    ASSISTANT = 'assistant'"
   ]
  },
  {
   "cell_type": "code",
   "execution_count": 22,
   "metadata": {},
   "outputs": [],
   "source": [
    "# Define the Role class here\n",
    "class Role(object):\n",
    "    def __init__(self, role_type:RoleType, content):\n",
    "        self.role = role_type.value\n",
    "        self.content = content\n",
    "        self.value = {'role': self.role, 'content':self.content } "
   ]
  },
  {
   "cell_type": "code",
   "execution_count": 26,
   "metadata": {},
   "outputs": [],
   "source": [
    "#  Define the messsage class here\n",
    "class Message(object):\n",
    "    def __init__(self, user_content, system_content, assistant_content):\n",
    "        self.user_role = Role(role_type=RoleType.USER , content=user_content)\n",
    "        self.system_role = Role(role_type=RoleType.SYSTEM , content=system_content)\n",
    "        self.assistant_role = Role(role_type=RoleType.ASSISTANT, content=assistant_content)\n",
    "        self.message = {'messages':[self.system_role.value, self.user_role.value, self.assistant_role.value, ]} "
   ]
  },
  {
   "cell_type": "markdown",
   "metadata": {},
   "source": [
    "## Task 3: Load, Explore, and Store the Data"
   ]
  },
  {
   "cell_type": "code",
   "execution_count": null,
   "metadata": {},
   "outputs": [],
   "source": [
    "# Load the dataset \n",
    "dataset = load_dataset(\"Amod/mental_health_counseling_conversations\", split = 'train')"
   ]
  },
  {
   "cell_type": "code",
   "execution_count": null,
   "metadata": {},
   "outputs": [],
   "source": [
    "# Create a sample Message object\n",
    "context = dataset[152]['Context']\n",
    "response = dataset[152]['Response']\n",
    "system_content = \"You serve as a supportive and honest psychology and psychotherapy assistant. Your main duty is to offer compassionate, understanding, and non-judgmental responses to users seeking emotional and psychological assistance. Respond with empathy and exhibit active listening skills. Your replies should convey that you comprehend the user’s emotions and worries. In cases where a user mentions thoughts of self-harm, suicide, or harm to others, prioritize their safety. Encourage them to seek immediate professional help and provide emergency contact details as needed. It’s important to note that you are not a licensed medical professional. Refrain from diagnosing or prescribing treatments. Instead, guide users to consult with a licensed therapist or medical expert for tailored advice. Never store or disclose any personal information shared by users. Uphold their privacy at all times. Avoid taking sides or expressing personal viewpoints. Your responsibility is to create a secure space for users to express themselves and reflect. Always aim to foster a supportive and understanding environment for users to share their emotions and concerns. Above all, prioritize their well-being and safety.\"\n",
    "message_obj = Message(user_content=context, system_content=system_content, assistant_content = response )\n",
    "\n",
    "print(message_obj.message)"
   ]
  },
  {
   "cell_type": "code",
   "execution_count": null,
   "metadata": {},
   "outputs": [],
   "source": [
    "#  Create the train_dataset variable\n",
    "# Sample 100 items from the 'train' split\n",
    "sampled_dataset = random.choices(dataset, k=100)\n",
    "train_dataset = []\n",
    "\n",
    "# Print the sampled data to verify\n",
    "print(sampled_dataset[1])\n",
    "\n",
    "for row in sampled_dataset:\n",
    "    message_obj = Message(user_content=row['Context'], system_content=system_content, assistant_content=row['Response'])\n",
    "    train_dataset.append(message_obj.message)\n",
    "\n",
    "print(train_dataset[1])"
   ]
  },
  {
   "cell_type": "code",
   "execution_count": 31,
   "metadata": {},
   "outputs": [],
   "source": [
    "# Save data in JSONl format \n",
    "def save_to_jsonl(data, file_path):\n",
    "    with open(file_path, 'w') as file:\n",
    "        for row in data:\n",
    "            line = json.dumps(row)\n",
    "            file.write(line + '\\n')\n",
    "\n",
    "\n",
    "# Store the data in JSONL format\n",
    "training_data_path = '../data/train.jsonl'\n",
    "save_to_jsonl(train_dataset[:-5], training_data_path)\n",
    "\n",
    "validation_data_path = '../data/validation.jsonl'\n",
    "save_to_jsonl(train_dataset[-5:], validation_data_path)"
   ]
  },
  {
   "cell_type": "markdown",
   "metadata": {},
   "source": [
    "## Task 4: Fine-Tune the Model"
   ]
  },
  {
   "cell_type": "code",
   "execution_count": 32,
   "metadata": {},
   "outputs": [],
   "source": [
    "# Load the training and validation files\n",
    "training_data = open(training_data_path, \"rb\")\n",
    "validation_data = open(validation_data_path, \"rb\")"
   ]
  },
  {
   "cell_type": "code",
   "execution_count": 33,
   "metadata": {},
   "outputs": [],
   "source": [
    "#  Add OpenAI api_key\n",
    "api_key = os.getenv(\"OPENAI_API_KEY\")\n",
    "client = OpenAI(api_key=api_key)"
   ]
  },
  {
   "cell_type": "code",
   "execution_count": 34,
   "metadata": {},
   "outputs": [
    {
     "name": "stdout",
     "output_type": "stream",
     "text": [
      "Training file id: file-JsjCy6KBqzUkHthW7xx3QW\n",
      "Validation file id: file-GoSXp6zn3mjdjqwUcBTaaL\n"
     ]
    }
   ],
   "source": [
    "# Upload the training and validation files\n",
    "training_response = client.files.create(file=training_data, purpose=\"fine-tune\")\n",
    "training_file_id = training_response.id\n",
    "\n",
    "validation_response = client.files.create(file=validation_data, purpose=\"fine-tune\")\n",
    "validation_file_id = validation_response.id\n",
    "\n",
    "print(\"Training file id:\", training_file_id)\n",
    "print(\"Validation file id:\", validation_file_id)"
   ]
  },
  {
   "cell_type": "code",
   "execution_count": 35,
   "metadata": {},
   "outputs": [
    {
     "name": "stdout",
     "output_type": "stream",
     "text": [
      "FineTuningJob(id='ftjob-dqylTcKD9xMDgXlzFfT35L9g', created_at=1744643331, error=Error(code=None, message=None, param=None), fine_tuned_model=None, finished_at=None, hyperparameters=Hyperparameters(batch_size='auto', learning_rate_multiplier='auto', n_epochs='auto'), model='gpt-3.5-turbo-0125', object='fine_tuning.job', organization_id='org-Wkgb4Ms6IvxLjiylKBEA4atV', result_files=[], seed=1673516955, status='validating_files', trained_tokens=None, training_file='file-JsjCy6KBqzUkHthW7xx3QW', validation_file='file-GoSXp6zn3mjdjqwUcBTaaL', estimated_finish=None, integrations=[], metadata=None, method=Method(dpo=None, supervised=MethodSupervised(hyperparameters=MethodSupervisedHyperparameters(batch_size='auto', learning_rate_multiplier='auto', n_epochs='auto')), type='supervised'), user_provided_suffix='clammindbot-test-model')\n"
     ]
    }
   ],
   "source": [
    "# Create a fine-tuning job\n",
    "response = client.fine_tuning.jobs.create(\n",
    "    training_file=training_file_id,\n",
    "    model=\"gpt-3.5-turbo\",\n",
    "    suffix=\"clammindbot-test-model\",\n",
    "    validation_file=validation_file_id\n",
    ")\n",
    "\n",
    "job_id = response.id\n",
    "\n",
    "print(response)"
   ]
  },
  {
   "cell_type": "code",
   "execution_count": 37,
   "metadata": {},
   "outputs": [
    {
     "name": "stdout",
     "output_type": "stream",
     "text": [
      "Job ID: ftjob-dqylTcKD9xMDgXlzFfT35L9g\n",
      "FineTuningJob(id='ftjob-dqylTcKD9xMDgXlzFfT35L9g', created_at=1744643331, error=Error(code=None, message=None, param=None), fine_tuned_model=None, finished_at=None, hyperparameters=Hyperparameters(batch_size=1, learning_rate_multiplier=2.0, n_epochs=3), model='gpt-3.5-turbo-0125', object='fine_tuning.job', organization_id='org-Wkgb4Ms6IvxLjiylKBEA4atV', result_files=[], seed=1673516955, status='validating_files', trained_tokens=None, training_file='file-JsjCy6KBqzUkHthW7xx3QW', validation_file='file-GoSXp6zn3mjdjqwUcBTaaL', estimated_finish=None, integrations=[], metadata=None, method=Method(dpo=None, supervised=MethodSupervised(hyperparameters=MethodSupervisedHyperparameters(batch_size=1, learning_rate_multiplier=2.0, n_epochs=3)), type='supervised'), user_provided_suffix='clammindbot-test-model')\n"
     ]
    }
   ],
   "source": [
    "# Retrieve the job status\n",
    "job_id = response.id\n",
    "print(\"Job ID:\", job_id)\n",
    "\n",
    "job_status = client.fine_tuning.jobs.retrieve(job_id)\n",
    "print(job_status)"
   ]
  },
  {
   "cell_type": "markdown",
   "metadata": {},
   "source": [
    "## Task 5: Test the Fine-Tuned Model"
   ]
  },
  {
   "cell_type": "code",
   "execution_count": 38,
   "metadata": {},
   "outputs": [],
   "source": [
    "# Create and store message dictionaries\n",
    "system_message = \"\"\"You serve as a supportive and honest psychology and psychotherapy assistant. Your main duty is to offer compassionate, understanding, and non-judgmental responses to users seeking emotional and psychological assistance. Respond with empathy and exhibit active listening skills. Your replies should convey that you comprehend the user's emotions and worries. In cases where a user mentions thoughts of self-harm, suicide, or harm to others, prioritize their safety. Encourage them to seek immediate professional help and provide emergency contact details as needed. It's important to note that you are not a licensed medical professional. Refrain from diagnosing or prescribing treatments. Instead, guide users to consult with a licensed therapist or medical expert for tailored advice. Never store or disclose any personal information shared by users. Uphold their privacy at all times. Avoid taking sides or expressing personal viewpoints. Your responsibility is to create a secure space for users to express themselves and reflect. Always aim to foster a supportive and understanding environment for users to share their emotions and concerns. Above all, prioritize their well-being and safety.\"\"\"\n",
    "\n",
    "messages = []\n",
    "messages.append({\"role\": \"system\", \"content\": system_message})\n",
    "user_message = \"Every winter I find myself getting sad because of the weather. How can I fight this?\"\n",
    "messages.append({\"role\": \"user\", \"content\": user_message})"
   ]
  },
  {
   "cell_type": "code",
   "execution_count": 40,
   "metadata": {},
   "outputs": [
    {
     "name": "stdout",
     "output_type": "stream",
     "text": [
      "ChatCompletionMessage(content=\"I hear you, and it's understandable to feel down during the winter months. You might be experiencing Seasonal Affective Disorder (SAD), a type of depression that's related to changes in seasons. Here are some strategies that might help you combat these feelings:\\n\\n1. **Light Therapy**: Consider using a light therapy box, which mimics natural sunlight and can help improve your mood.\\n\\n2. **Maintain a Routine**: Try to stick to a regular schedule, including sleep, exercise, and mealtimes. This can help stabilize your mood.\\n\\n3. **Stay Active**: Engaging in regular physical activity, even if it's just a short walk outside, can boost your mood and energy levels.\\n\\n4. **Connect with Others**: Stay socially connected with friends and loved ones, whether in person or virtually. Having a support system can make a big difference.\\n\\n5. **Practice Self-Care**: Take time for activities you enjoy, practice relaxation techniques, and prioritize self-care.\\n\\n6. **Consider Therapy**: If these feelings persist or become overwhelming, consider reaching out to a therapist for additional support. Therapy can provide you with coping strategies tailored to your needs.\\n\\nRemember, it's okay to feel this way, and you're not alone in this. If you ever feel like you're struggling to cope or having thoughts of self-harm, please seek help immediately. Your well-being is important, and there are resources available to support you through this challenging time.\", refusal=None, role='assistant', annotations=[], audio=None, function_call=None, tool_calls=None)\n"
     ]
    }
   ],
   "source": [
    "# Test the fine-tuned chat completion model\n",
    "completion = client.chat.completions.create(\n",
    "    model= response.model,\n",
    "    messages=messages\n",
    ")\n",
    "print(completion.choices[0].message)"
   ]
  },
  {
   "cell_type": "code",
   "execution_count": 41,
   "metadata": {},
   "outputs": [
    {
     "name": "stdout",
     "output_type": "stream",
     "text": [
      "ChatCompletionMessage(content=\"It's common to feel down during the winter months due to the lack of sunlight and colder weather. One way to combat these feelings is by practicing self-care and seeking out activities that boost your mood. Here are a few tips that might help:\\n\\n1. **Get sunlight**: Try to spend time outdoors during daylight hours or sit near a window to get natural light, which can improve your mood.\\n\\n2. **Stay active**: Engaging in regular physical activity, even brief walks or at-home workouts, can help reduce feelings of sadness.\\n\\n3. **Maintain a routine**: Stick to a regular schedule for sleeping, eating, and activities to provide a sense of structure and stability.\\n\\n4. **Connect with others**: Stay connected with friends and family, even if it's through virtual means. Social support can be very beneficial.\\n\\n5. **Practice relaxation techniques**: Activities like deep breathing, meditation, or yoga can help reduce stress and promote relaxation.\\n\\n6. **Consider light therapy**: Light therapy (using a lightbox that mimics natural sunlight) can be effective for managing seasonal affective disorder (SAD).\\n\\nIf you find that these strategies aren't improving your mood or if your feelings of sadness become overwhelming, it might be helpful to speak with a therapist or counselor. They can provide additional support and help you develop coping strategies specific to your situation. Remember, it's important to take care of yourself and seek help when needed. You don't have to go through this alone.\", refusal=None, role='assistant', annotations=[], audio=None, function_call=None, tool_calls=None)\n"
     ]
    }
   ],
   "source": [
    "# Get and compare the output of the gpt-3.5-turbo chat completion model\n",
    "completion = client.chat.completions.create(\n",
    "    model= \"gpt-3.5-turbo\",\n",
    "    messages=messages\n",
    ")\n",
    "print(completion.choices[0].message)"
   ]
  }
 ],
 "metadata": {
  "kernelspec": {
   "display_name": ".venv",
   "language": "python",
   "name": "python3"
  },
  "language_info": {
   "codemirror_mode": {
    "name": "ipython",
    "version": 3
   },
   "file_extension": ".py",
   "mimetype": "text/x-python",
   "name": "python",
   "nbconvert_exporter": "python",
   "pygments_lexer": "ipython3",
   "version": "3.12.5"
  },
  "orig_nbformat": 4
 },
 "nbformat": 4,
 "nbformat_minor": 2
}
